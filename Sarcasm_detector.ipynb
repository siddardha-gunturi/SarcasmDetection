{
  "cells": [
    {
      "cell_type": "markdown",
      "metadata": {
        "id": "AXJ7YCF4nsVf"
      },
      "source": [
        "Add all necessary imports"
      ]
    },
    {
      "cell_type": "code",
      "execution_count": 1,
      "metadata": {
        "id": "OHykybD4gHLV"
      },
      "outputs": [],
      "source": [
        "import pandas as pd\n",
        "import numpy as np\n",
        "from sklearn.model_selection import train_test_split\n",
        "from sklearn.feature_extraction.text import TfidfVectorizer\n",
        "from sklearn.ensemble import RandomForestClassifier\n",
        "from sklearn.metrics import classification_report\n",
        "import re\n",
        "import nltk\n",
        "import json\n",
        "from nltk.tokenize import word_tokenize\n",
        "from nltk.corpus import stopwords\n",
        "from nltk.sentiment import SentimentIntensityAnalyzer\n",
        "from nltk.stem import WordNetLemmatizer\n",
        "\n"
      ]
    },
    {
      "cell_type": "markdown",
      "metadata": {
        "id": "7SPAqCpdnzSs"
      },
      "source": [
        "Download nltk modules"
      ]
    },
    {
      "cell_type": "code",
      "execution_count": 2,
      "metadata": {
        "colab": {
          "base_uri": "https://localhost:8080/"
        },
        "id": "-YCZQLE0d2Gd",
        "outputId": "0dca1bba-033c-44ca-f66e-ce4e13c4da85"
      },
      "outputs": [
        {
          "output_type": "stream",
          "name": "stderr",
          "text": [
            "[nltk_data] Downloading package punkt to /root/nltk_data...\n",
            "[nltk_data]   Unzipping tokenizers/punkt.zip.\n",
            "[nltk_data] Downloading package stopwords to /root/nltk_data...\n",
            "[nltk_data]   Unzipping corpora/stopwords.zip.\n",
            "[nltk_data] Downloading package wordnet to /root/nltk_data...\n",
            "[nltk_data] Downloading package vader_lexicon to /root/nltk_data...\n",
            "[nltk_data] Downloading package punkt_tab to /root/nltk_data...\n",
            "[nltk_data]   Unzipping tokenizers/punkt_tab.zip.\n"
          ]
        },
        {
          "output_type": "execute_result",
          "data": {
            "text/plain": [
              "True"
            ]
          },
          "metadata": {},
          "execution_count": 2
        }
      ],
      "source": [
        "nltk.download('punkt')\n",
        "nltk.download('stopwords')\n",
        "nltk.download('wordnet')\n",
        "nltk.download('vader_lexicon')\n",
        "nltk.download('punkt_tab')"
      ]
    },
    {
      "cell_type": "markdown",
      "metadata": {
        "id": "VTbPVmtqn9b8"
      },
      "source": [
        "Read data from file"
      ]
    },
    {
      "cell_type": "code",
      "execution_count": 3,
      "metadata": {
        "colab": {
          "base_uri": "https://localhost:8080/",
          "height": 206
        },
        "id": "LSVftiQLmZwa",
        "outputId": "9310ebd5-a0a1-4e3c-aca9-e9c062fa16a6"
      },
      "outputs": [
        {
          "output_type": "execute_result",
          "data": {
            "text/plain": [
              "                                        article_link  \\\n",
              "0  https://www.huffingtonpost.com/entry/versace-b...   \n",
              "1  https://www.huffingtonpost.com/entry/roseanne-...   \n",
              "2  https://local.theonion.com/mom-starting-to-fea...   \n",
              "3  https://politics.theonion.com/boehner-just-wan...   \n",
              "4  https://www.huffingtonpost.com/entry/jk-rowlin...   \n",
              "\n",
              "                                            headline  is_sarcastic  \n",
              "0  former versace store clerk sues over secret 'b...             0  \n",
              "1  the 'roseanne' revival catches up to our thorn...             0  \n",
              "2  mom starting to fear son's web series closest ...             1  \n",
              "3  boehner just wants wife to listen, not come up...             1  \n",
              "4  j.k. rowling wishes snape happy birthday in th...             0  "
            ],
            "text/html": [
              "\n",
              "  <div id=\"df-33f1a53a-29af-4eb6-91f3-e8030374bc94\" class=\"colab-df-container\">\n",
              "    <div>\n",
              "<style scoped>\n",
              "    .dataframe tbody tr th:only-of-type {\n",
              "        vertical-align: middle;\n",
              "    }\n",
              "\n",
              "    .dataframe tbody tr th {\n",
              "        vertical-align: top;\n",
              "    }\n",
              "\n",
              "    .dataframe thead th {\n",
              "        text-align: right;\n",
              "    }\n",
              "</style>\n",
              "<table border=\"1\" class=\"dataframe\">\n",
              "  <thead>\n",
              "    <tr style=\"text-align: right;\">\n",
              "      <th></th>\n",
              "      <th>article_link</th>\n",
              "      <th>headline</th>\n",
              "      <th>is_sarcastic</th>\n",
              "    </tr>\n",
              "  </thead>\n",
              "  <tbody>\n",
              "    <tr>\n",
              "      <th>0</th>\n",
              "      <td>https://www.huffingtonpost.com/entry/versace-b...</td>\n",
              "      <td>former versace store clerk sues over secret 'b...</td>\n",
              "      <td>0</td>\n",
              "    </tr>\n",
              "    <tr>\n",
              "      <th>1</th>\n",
              "      <td>https://www.huffingtonpost.com/entry/roseanne-...</td>\n",
              "      <td>the 'roseanne' revival catches up to our thorn...</td>\n",
              "      <td>0</td>\n",
              "    </tr>\n",
              "    <tr>\n",
              "      <th>2</th>\n",
              "      <td>https://local.theonion.com/mom-starting-to-fea...</td>\n",
              "      <td>mom starting to fear son's web series closest ...</td>\n",
              "      <td>1</td>\n",
              "    </tr>\n",
              "    <tr>\n",
              "      <th>3</th>\n",
              "      <td>https://politics.theonion.com/boehner-just-wan...</td>\n",
              "      <td>boehner just wants wife to listen, not come up...</td>\n",
              "      <td>1</td>\n",
              "    </tr>\n",
              "    <tr>\n",
              "      <th>4</th>\n",
              "      <td>https://www.huffingtonpost.com/entry/jk-rowlin...</td>\n",
              "      <td>j.k. rowling wishes snape happy birthday in th...</td>\n",
              "      <td>0</td>\n",
              "    </tr>\n",
              "  </tbody>\n",
              "</table>\n",
              "</div>\n",
              "    <div class=\"colab-df-buttons\">\n",
              "\n",
              "  <div class=\"colab-df-container\">\n",
              "    <button class=\"colab-df-convert\" onclick=\"convertToInteractive('df-33f1a53a-29af-4eb6-91f3-e8030374bc94')\"\n",
              "            title=\"Convert this dataframe to an interactive table.\"\n",
              "            style=\"display:none;\">\n",
              "\n",
              "  <svg xmlns=\"http://www.w3.org/2000/svg\" height=\"24px\" viewBox=\"0 -960 960 960\">\n",
              "    <path d=\"M120-120v-720h720v720H120Zm60-500h600v-160H180v160Zm220 220h160v-160H400v160Zm0 220h160v-160H400v160ZM180-400h160v-160H180v160Zm440 0h160v-160H620v160ZM180-180h160v-160H180v160Zm440 0h160v-160H620v160Z\"/>\n",
              "  </svg>\n",
              "    </button>\n",
              "\n",
              "  <style>\n",
              "    .colab-df-container {\n",
              "      display:flex;\n",
              "      gap: 12px;\n",
              "    }\n",
              "\n",
              "    .colab-df-convert {\n",
              "      background-color: #E8F0FE;\n",
              "      border: none;\n",
              "      border-radius: 50%;\n",
              "      cursor: pointer;\n",
              "      display: none;\n",
              "      fill: #1967D2;\n",
              "      height: 32px;\n",
              "      padding: 0 0 0 0;\n",
              "      width: 32px;\n",
              "    }\n",
              "\n",
              "    .colab-df-convert:hover {\n",
              "      background-color: #E2EBFA;\n",
              "      box-shadow: 0px 1px 2px rgba(60, 64, 67, 0.3), 0px 1px 3px 1px rgba(60, 64, 67, 0.15);\n",
              "      fill: #174EA6;\n",
              "    }\n",
              "\n",
              "    .colab-df-buttons div {\n",
              "      margin-bottom: 4px;\n",
              "    }\n",
              "\n",
              "    [theme=dark] .colab-df-convert {\n",
              "      background-color: #3B4455;\n",
              "      fill: #D2E3FC;\n",
              "    }\n",
              "\n",
              "    [theme=dark] .colab-df-convert:hover {\n",
              "      background-color: #434B5C;\n",
              "      box-shadow: 0px 1px 3px 1px rgba(0, 0, 0, 0.15);\n",
              "      filter: drop-shadow(0px 1px 2px rgba(0, 0, 0, 0.3));\n",
              "      fill: #FFFFFF;\n",
              "    }\n",
              "  </style>\n",
              "\n",
              "    <script>\n",
              "      const buttonEl =\n",
              "        document.querySelector('#df-33f1a53a-29af-4eb6-91f3-e8030374bc94 button.colab-df-convert');\n",
              "      buttonEl.style.display =\n",
              "        google.colab.kernel.accessAllowed ? 'block' : 'none';\n",
              "\n",
              "      async function convertToInteractive(key) {\n",
              "        const element = document.querySelector('#df-33f1a53a-29af-4eb6-91f3-e8030374bc94');\n",
              "        const dataTable =\n",
              "          await google.colab.kernel.invokeFunction('convertToInteractive',\n",
              "                                                    [key], {});\n",
              "        if (!dataTable) return;\n",
              "\n",
              "        const docLinkHtml = 'Like what you see? Visit the ' +\n",
              "          '<a target=\"_blank\" href=https://colab.research.google.com/notebooks/data_table.ipynb>data table notebook</a>'\n",
              "          + ' to learn more about interactive tables.';\n",
              "        element.innerHTML = '';\n",
              "        dataTable['output_type'] = 'display_data';\n",
              "        await google.colab.output.renderOutput(dataTable, element);\n",
              "        const docLink = document.createElement('div');\n",
              "        docLink.innerHTML = docLinkHtml;\n",
              "        element.appendChild(docLink);\n",
              "      }\n",
              "    </script>\n",
              "  </div>\n",
              "\n",
              "\n",
              "<div id=\"df-bb2189ed-9cb7-4e30-ad64-281ed7062f8f\">\n",
              "  <button class=\"colab-df-quickchart\" onclick=\"quickchart('df-bb2189ed-9cb7-4e30-ad64-281ed7062f8f')\"\n",
              "            title=\"Suggest charts\"\n",
              "            style=\"display:none;\">\n",
              "\n",
              "<svg xmlns=\"http://www.w3.org/2000/svg\" height=\"24px\"viewBox=\"0 0 24 24\"\n",
              "     width=\"24px\">\n",
              "    <g>\n",
              "        <path d=\"M19 3H5c-1.1 0-2 .9-2 2v14c0 1.1.9 2 2 2h14c1.1 0 2-.9 2-2V5c0-1.1-.9-2-2-2zM9 17H7v-7h2v7zm4 0h-2V7h2v10zm4 0h-2v-4h2v4z\"/>\n",
              "    </g>\n",
              "</svg>\n",
              "  </button>\n",
              "\n",
              "<style>\n",
              "  .colab-df-quickchart {\n",
              "      --bg-color: #E8F0FE;\n",
              "      --fill-color: #1967D2;\n",
              "      --hover-bg-color: #E2EBFA;\n",
              "      --hover-fill-color: #174EA6;\n",
              "      --disabled-fill-color: #AAA;\n",
              "      --disabled-bg-color: #DDD;\n",
              "  }\n",
              "\n",
              "  [theme=dark] .colab-df-quickchart {\n",
              "      --bg-color: #3B4455;\n",
              "      --fill-color: #D2E3FC;\n",
              "      --hover-bg-color: #434B5C;\n",
              "      --hover-fill-color: #FFFFFF;\n",
              "      --disabled-bg-color: #3B4455;\n",
              "      --disabled-fill-color: #666;\n",
              "  }\n",
              "\n",
              "  .colab-df-quickchart {\n",
              "    background-color: var(--bg-color);\n",
              "    border: none;\n",
              "    border-radius: 50%;\n",
              "    cursor: pointer;\n",
              "    display: none;\n",
              "    fill: var(--fill-color);\n",
              "    height: 32px;\n",
              "    padding: 0;\n",
              "    width: 32px;\n",
              "  }\n",
              "\n",
              "  .colab-df-quickchart:hover {\n",
              "    background-color: var(--hover-bg-color);\n",
              "    box-shadow: 0 1px 2px rgba(60, 64, 67, 0.3), 0 1px 3px 1px rgba(60, 64, 67, 0.15);\n",
              "    fill: var(--button-hover-fill-color);\n",
              "  }\n",
              "\n",
              "  .colab-df-quickchart-complete:disabled,\n",
              "  .colab-df-quickchart-complete:disabled:hover {\n",
              "    background-color: var(--disabled-bg-color);\n",
              "    fill: var(--disabled-fill-color);\n",
              "    box-shadow: none;\n",
              "  }\n",
              "\n",
              "  .colab-df-spinner {\n",
              "    border: 2px solid var(--fill-color);\n",
              "    border-color: transparent;\n",
              "    border-bottom-color: var(--fill-color);\n",
              "    animation:\n",
              "      spin 1s steps(1) infinite;\n",
              "  }\n",
              "\n",
              "  @keyframes spin {\n",
              "    0% {\n",
              "      border-color: transparent;\n",
              "      border-bottom-color: var(--fill-color);\n",
              "      border-left-color: var(--fill-color);\n",
              "    }\n",
              "    20% {\n",
              "      border-color: transparent;\n",
              "      border-left-color: var(--fill-color);\n",
              "      border-top-color: var(--fill-color);\n",
              "    }\n",
              "    30% {\n",
              "      border-color: transparent;\n",
              "      border-left-color: var(--fill-color);\n",
              "      border-top-color: var(--fill-color);\n",
              "      border-right-color: var(--fill-color);\n",
              "    }\n",
              "    40% {\n",
              "      border-color: transparent;\n",
              "      border-right-color: var(--fill-color);\n",
              "      border-top-color: var(--fill-color);\n",
              "    }\n",
              "    60% {\n",
              "      border-color: transparent;\n",
              "      border-right-color: var(--fill-color);\n",
              "    }\n",
              "    80% {\n",
              "      border-color: transparent;\n",
              "      border-right-color: var(--fill-color);\n",
              "      border-bottom-color: var(--fill-color);\n",
              "    }\n",
              "    90% {\n",
              "      border-color: transparent;\n",
              "      border-bottom-color: var(--fill-color);\n",
              "    }\n",
              "  }\n",
              "</style>\n",
              "\n",
              "  <script>\n",
              "    async function quickchart(key) {\n",
              "      const quickchartButtonEl =\n",
              "        document.querySelector('#' + key + ' button');\n",
              "      quickchartButtonEl.disabled = true;  // To prevent multiple clicks.\n",
              "      quickchartButtonEl.classList.add('colab-df-spinner');\n",
              "      try {\n",
              "        const charts = await google.colab.kernel.invokeFunction(\n",
              "            'suggestCharts', [key], {});\n",
              "      } catch (error) {\n",
              "        console.error('Error during call to suggestCharts:', error);\n",
              "      }\n",
              "      quickchartButtonEl.classList.remove('colab-df-spinner');\n",
              "      quickchartButtonEl.classList.add('colab-df-quickchart-complete');\n",
              "    }\n",
              "    (() => {\n",
              "      let quickchartButtonEl =\n",
              "        document.querySelector('#df-bb2189ed-9cb7-4e30-ad64-281ed7062f8f button');\n",
              "      quickchartButtonEl.style.display =\n",
              "        google.colab.kernel.accessAllowed ? 'block' : 'none';\n",
              "    })();\n",
              "  </script>\n",
              "</div>\n",
              "\n",
              "    </div>\n",
              "  </div>\n"
            ],
            "application/vnd.google.colaboratory.intrinsic+json": {
              "type": "dataframe",
              "variable_name": "df",
              "summary": "{\n  \"name\": \"df\",\n  \"rows\": 26709,\n  \"fields\": [\n    {\n      \"column\": \"article_link\",\n      \"properties\": {\n        \"dtype\": \"string\",\n        \"num_unique_values\": 26708,\n        \"samples\": [\n          \"https://www.theonion.com/isis-recruiter-excited-to-be-talking-to-popular-high-sc-1819579508\",\n          \"https://www.huffingtonpost.com/entry/jimmy-fallon-could-barely-keep-it-together-during-this-cardi-b-interview_us_5a3c01aae4b06d1621b2de98\",\n          \"https://www.huffingtonpost.com/entry/4-ways-to-support-farmtos_b_5906452.html\"\n        ],\n        \"semantic_type\": \"\",\n        \"description\": \"\"\n      }\n    },\n    {\n      \"column\": \"headline\",\n      \"properties\": {\n        \"dtype\": \"string\",\n        \"num_unique_values\": 26602,\n        \"samples\": [\n          \"departing employee not quite important enough for send-off\",\n          \"college student still managing to look like asshole in picture of village he helped build\",\n          \"fun sticker placed on child's ventilator\"\n        ],\n        \"semantic_type\": \"\",\n        \"description\": \"\"\n      }\n    },\n    {\n      \"column\": \"is_sarcastic\",\n      \"properties\": {\n        \"dtype\": \"number\",\n        \"std\": 0,\n        \"min\": 0,\n        \"max\": 1,\n        \"num_unique_values\": 2,\n        \"samples\": [\n          1,\n          0\n        ],\n        \"semantic_type\": \"\",\n        \"description\": \"\"\n      }\n    }\n  ]\n}"
            }
          },
          "metadata": {},
          "execution_count": 3
        }
      ],
      "source": [
        "df = pd.read_json('/content/Sarcasm_Headlines_Dataset.json', lines = True)\n",
        "df.head()"
      ]
    },
    {
      "cell_type": "markdown",
      "metadata": {
        "id": "E1FO6smioCEU"
      },
      "source": [
        "Output data"
      ]
    },
    {
      "cell_type": "code",
      "execution_count": 4,
      "metadata": {
        "id": "Hf9Gv2aSmfZ2"
      },
      "outputs": [],
      "source": [
        "sentences = df['headline'].values\n",
        "labels = df['is_sarcastic'].values"
      ]
    },
    {
      "cell_type": "markdown",
      "metadata": {
        "id": "0cZ5F5pCoFvl"
      },
      "source": [
        "declare models"
      ]
    },
    {
      "cell_type": "code",
      "execution_count": 5,
      "metadata": {
        "id": "v12VH4SReE4M"
      },
      "outputs": [],
      "source": [
        "vectorizer = TfidfVectorizer(\n",
        "            max_features=5000,\n",
        "            ngram_range=(1, 3)\n",
        "        )\n",
        "\n",
        "classifier = RandomForestClassifier(\n",
        "            n_estimators=100,\n",
        "            random_state=42,\n",
        "            class_weight={0: 1, 1: 2}  # Weight sarcastic cases more heavily\n",
        "        )\n",
        "lemmatizer = WordNetLemmatizer()\n",
        "nltk_stopwords = set(stopwords.words('english'))\n",
        "sia = SentimentIntensityAnalyzer()"
      ]
    },
    {
      "cell_type": "code",
      "execution_count": 6,
      "metadata": {
        "id": "R19DG5HbeVFv"
      },
      "outputs": [],
      "source": [
        "# Extended sarcasm indicators with weights\n",
        "sarcasm_patterns = {\n",
        "            'intensifiers': {\n",
        "                'absolutely': 0.6,\n",
        "                'totally': 0.6,\n",
        "                'completely': 0.6,\n",
        "                'literally': 0.6,\n",
        "                'obviously': 0.7,\n",
        "                'clearly': 0.6,\n",
        "                'exactly': 0.6\n",
        "            },\n",
        "            'phrases': {\n",
        "                'yeah right': 0.8,\n",
        "                'oh really': 0.7,\n",
        "                'sure sure': 0.7,\n",
        "                'oh great': 0.7,\n",
        "                'just what i need': 0.8,\n",
        "                'how wonderful': 0.7,\n",
        "                'thanks a lot': 0.6,\n",
        "                'perfect timing': 0.7,\n",
        "                'story of my life': 0.6,\n",
        "                'what a surprise': 0.6,\n",
        "                'just perfect': 0.7,\n",
        "                'cant wait': 0.5\n",
        "            },\n",
        "            'interjections': {\n",
        "                'wow': 0.5,\n",
        "                'yay': 0.5,\n",
        "                'hurray': 0.5,\n",
        "                'oh': 0.3,\n",
        "                'ah': 0.3\n",
        "            }\n",
        "        }"
      ]
    },
    {
      "cell_type": "markdown",
      "metadata": {
        "id": "kxxKGPjmohrJ"
      },
      "source": [
        "calculate score"
      ]
    },
    {
      "cell_type": "code",
      "execution_count": 7,
      "metadata": {
        "id": "U4qeM_r1iqEn"
      },
      "outputs": [],
      "source": [
        "def calculate_sarcasm_score(text, original_text):\n",
        "        \"\"\"Calculate a weighted sarcasm score based on multiple indicators\"\"\"\n",
        "        score = 0\n",
        "        text_lower = text.lower()\n",
        "\n",
        "        # Check for pattern matches\n",
        "        for pattern_dict in sarcasm_patterns.values():\n",
        "            for phrase, weight in pattern_dict.items():\n",
        "                if phrase in text_lower:\n",
        "                    score += weight\n",
        "\n",
        "        # Check for uppercase words (excluding single letters)\n",
        "        uppercase_words = [word for word in original_text.split()\n",
        "                         if word.isupper() and len(word) > 1]\n",
        "        score += len(uppercase_words) * 0.4\n",
        "\n",
        "        # Check for repeated punctuation\n",
        "        if re.search(r'(!{2,}|\\?{2,}|\\.{3,})', text):\n",
        "            score += 0.5\n",
        "\n",
        "        # Analyze sentiment\n",
        "        sentiment = sia.polarity_scores(text)\n",
        "\n",
        "        # Check for sentiment contrast (positive words in negative context or vice versa)\n",
        "        if sentiment['pos'] > 0.5 and sentiment['neg'] > 0.2:\n",
        "            score += 0.6\n",
        "\n",
        "        # Check for extreme positive sentiment (often indicates sarcasm)\n",
        "        if sentiment['pos'] > 0.8:\n",
        "            score += 0.4\n",
        "\n",
        "        # Additional points for common sarcastic patterns\n",
        "        if '!' in text and any(word.isupper() for word in original_text.split()):\n",
        "            score += 0.5\n",
        "\n",
        "        if '...' in text:\n",
        "            score += 0.3\n",
        "\n",
        "        if text_lower.startswith(('oh', 'ah', 'wow')):\n",
        "            score += 0.3\n",
        "\n",
        "        return score"
      ]
    },
    {
      "cell_type": "code",
      "execution_count": 8,
      "metadata": {
        "id": "Nka6J3V1iyd8"
      },
      "outputs": [],
      "source": [
        "def predict(text):\n",
        "        \"\"\"Predict whether text is sarcastic using the weighted scoring system\"\"\"\n",
        "        processed_text, original_text = preprocess_text(text)\n",
        "\n",
        "        # Calculate sarcasm score\n",
        "        sarcasm_score = calculate_sarcasm_score(processed_text, original_text)\n",
        "\n",
        "        # Determine if sarcastic based on score threshold\n",
        "        is_sarcastic = sarcasm_score >= 1.0  # Adjusted threshold\n",
        "        confidence = min(sarcasm_score / 2, 0.99)  # Normalize confidence\n",
        "\n",
        "        return {\n",
        "            'is_sarcastic': is_sarcastic,\n",
        "            'confidence': confidence,\n",
        "            'sarcasm_score': sarcasm_score,\n",
        "            'features': {\n",
        "                'sentiment': sia.polarity_scores(processed_text),\n",
        "                'uppercase_words': len([word for word in original_text.split()\n",
        "                                     if word.isupper() and len(word) > 1]),\n",
        "                'has_ellipsis': '...' in text,\n",
        "                'has_exclamation': '!' in text,\n",
        "                'pattern_matches': [pattern for pattern_dict in sarcasm_patterns.values()\n",
        "                                  for pattern in pattern_dict.keys()\n",
        "                                  if pattern in processed_text.lower()]\n",
        "            }\n",
        "        }"
      ]
    },
    {
      "cell_type": "code",
      "execution_count": 9,
      "metadata": {
        "id": "kl1m35YLi1Zl"
      },
      "outputs": [],
      "source": [
        "def preprocess_text(text):\n",
        "        original_text = str(text)\n",
        "        text = original_text.lower()\n",
        "        text = re.sub(r'http\\S+|www.\\S+|@\\w+', '', text)\n",
        "        text = re.sub(r'[^a-zA-Z\\s!?...]', ' ', text)\n",
        "        tokens = word_tokenize(text)\n",
        "        tokens = [lemmatizer.lemmatize(token) for token in tokens\n",
        "                 if token not in nltk_stopwords]\n",
        "        return ' '.join(tokens), original_text"
      ]
    },
    {
      "cell_type": "code",
      "execution_count": 10,
      "metadata": {
        "colab": {
          "base_uri": "https://localhost:8080/"
        },
        "id": "Xtf_Fl1adsN2",
        "outputId": "5ff6d5f2-df9b-4a13-cfd4-c11db2d69c64"
      },
      "outputs": [
        {
          "output_type": "stream",
          "name": "stdout",
          "text": [
            "Testing with example texts:\n",
            "\n",
            "Text: Oh great, another meeting. Just what I needed to make my day even better.\n",
            "Is sarcastic: True\n",
            "\n",
            "Text: Wow, I’ve always wanted to spend my weekend doing absolutely nothing productive.\n",
            "Is sarcastic: True\n",
            "\n",
            "Text: Oh, absolutely, I'm sure your expertise on this subject is unparalleled. Who needs actual facts?\n",
            "Is sarcastic: True\n",
            "\n",
            "Text: I’m looking forward to our meeting today, it should be productive.\n",
            "Is sarcastic: False\n",
            "\n",
            "Text: I have some exciting plans for the weekend, I can’t wait to get started.\n",
            "Is sarcastic: False\n",
            "\n",
            "Text: I think the idea has potential and could really succeed if we focus on the details.\n",
            "Is sarcastic: False\n"
          ]
        }
      ],
      "source": [
        "test_texts = [\n",
        "        \"Oh great, another meeting. Just what I needed to make my day even better.\",\n",
        "        \"Wow, I’ve always wanted to spend my weekend doing absolutely nothing productive.\",\n",
        "        \"Oh, absolutely, I'm sure your expertise on this subject is unparalleled. Who needs actual facts?\",\n",
        "        #Non-Sarcastic Sentences\n",
        "        \"I’m looking forward to our meeting today, it should be productive.\",\n",
        "        \"I have some exciting plans for the weekend, I can’t wait to get started.\",\n",
        "        \"I think the idea has potential and could really succeed if we focus on the details.\"\n",
        "]\n",
        "\n",
        "print(\"Testing with example texts:\")\n",
        "for text in test_texts:\n",
        "        result = predict(text)\n",
        "        print(f\"\\nText: {text}\")\n",
        "        print(f\"Is sarcastic: {result['is_sarcastic']}\")\n",
        "        # print(f\"Confidence: {result['confidence']:.2f}\")\n",
        "        # print(f\"Sarcasm score: {result['sarcasm_score']:.2f}\")\n",
        "        # print(\"Features found:\", result['features']['pattern_matches'])\n",
        "        # if result['features']['uppercase_words'] > 0:\n",
        "        #     print(f\"Uppercase words: {result['features']['uppercase_words']}\")"
      ]
    }
  ],
  "metadata": {
    "colab": {
      "provenance": []
    },
    "kernelspec": {
      "display_name": "Python 3",
      "name": "python3"
    },
    "language_info": {
      "name": "python"
    }
  },
  "nbformat": 4,
  "nbformat_minor": 0
}